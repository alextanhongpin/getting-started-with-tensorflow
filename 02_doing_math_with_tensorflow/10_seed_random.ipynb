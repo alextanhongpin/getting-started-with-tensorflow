{
 "cells": [
  {
   "cell_type": "code",
   "execution_count": 1,
   "metadata": {
    "collapsed": false
   },
   "outputs": [
    {
     "name": "stderr",
     "output_type": "stream",
     "text": [
      "/usr/local/lib/python3.6/site-packages/h5py/__init__.py:36: FutureWarning: Conversion of the second argument of issubdtype from `float` to `np.floating` is deprecated. In future, it will be treated as `np.float64 == np.dtype(float).type`.\n",
      "  from ._conv import register_converters as _register_converters\n"
     ]
    }
   ],
   "source": [
    "import tensorflow as tf"
   ]
  },
  {
   "cell_type": "code",
   "execution_count": 2,
   "metadata": {
    "collapsed": true
   },
   "outputs": [],
   "source": [
    "uniform_with_seed = tf.random_uniform([1], seed = 1)\n",
    "uniform_without_seed = tf.random_uniform([1])"
   ]
  },
  {
   "cell_type": "code",
   "execution_count": 18,
   "metadata": {
    "collapsed": false
   },
   "outputs": [
    {
     "name": "stdout",
     "output_type": "stream",
     "text": [
      "seeded: [0.2390374]\n",
      "seeded: [0.22267115]\n",
      "none: [0.4682318]\n",
      "none: [0.9613842]\n",
      "seeded: [0.2390374]\n",
      "seeded: [0.22267115]\n",
      "none: [0.47237587]\n",
      "none: [0.8990853]\n"
     ]
    }
   ],
   "source": [
    "with tf.Session() as first_session:\n",
    "    print('seeded:', first_session.run(uniform_with_seed))\n",
    "    print('seeded:', first_session.run(uniform_with_seed))\n",
    "    print('none:', first_session.run(uniform_without_seed))\n",
    "    print('none:', first_session.run(uniform_without_seed))\n",
    "    \n",
    "with tf.Session() as second_session:\n",
    "    print('seeded:', second_session.run(uniform_with_seed))\n",
    "    print('seeded:', second_session.run(uniform_with_seed))\n",
    "    print('none:', second_session.run(uniform_without_seed))\n",
    "    print('none:', second_session.run(uniform_without_seed))"
   ]
  }
 ],
 "metadata": {
  "kernelspec": {
   "display_name": "Python 3",
   "language": "python",
   "name": "python3"
  },
  "language_info": {
   "codemirror_mode": {
    "name": "ipython",
    "version": 3
   },
   "file_extension": ".py",
   "mimetype": "text/x-python",
   "name": "python",
   "nbconvert_exporter": "python",
   "pygments_lexer": "ipython3",
   "version": "3.6.4"
  }
 },
 "nbformat": 4,
 "nbformat_minor": 2
}
