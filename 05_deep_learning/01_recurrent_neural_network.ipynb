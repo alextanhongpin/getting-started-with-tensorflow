{
 "cells": [
  {
   "cell_type": "code",
   "execution_count": 1,
   "metadata": {
    "collapsed": false
   },
   "outputs": [
    {
     "name": "stderr",
     "output_type": "stream",
     "text": [
      "/usr/local/lib/python3.6/site-packages/h5py/__init__.py:36: FutureWarning: Conversion of the second argument of issubdtype from `float` to `np.floating` is deprecated. In future, it will be treated as `np.float64 == np.dtype(float).type`.\n",
      "  from ._conv import register_converters as _register_converters\n"
     ]
    },
    {
     "name": "stdout",
     "output_type": "stream",
     "text": [
      "Extracting ../MNIST_data/train-images-idx3-ubyte.gz\n",
      "Extracting ../MNIST_data/train-labels-idx1-ubyte.gz\n",
      "Extracting ../MNIST_data/t10k-images-idx3-ubyte.gz\n",
      "Extracting ../MNIST_data/t10k-labels-idx1-ubyte.gz\n"
     ]
    }
   ],
   "source": [
    "import tensorflow as tf\n",
    "from tensorflow.examples.tutorials.mnist import input_data\n",
    "mnist = input_data.read_data_sets(\"../MNIST_data/\", one_hot = True)"
   ]
  },
  {
   "cell_type": "code",
   "execution_count": 40,
   "metadata": {
    "collapsed": true
   },
   "outputs": [],
   "source": [
    "learning_rate = 0.001\n",
    "training_iters = 100000\n",
    "batch_size = 128\n",
    "display_step = 10"
   ]
  },
  {
   "cell_type": "code",
   "execution_count": 4,
   "metadata": {
    "collapsed": true
   },
   "outputs": [],
   "source": [
    "n_input = 28 * 28\n",
    "n_classes = 10"
   ]
  },
  {
   "cell_type": "code",
   "execution_count": 5,
   "metadata": {
    "collapsed": true
   },
   "outputs": [],
   "source": [
    "dropout = 0.75"
   ]
  },
  {
   "cell_type": "code",
   "execution_count": 6,
   "metadata": {
    "collapsed": true
   },
   "outputs": [],
   "source": [
    "X = tf.placeholder(tf.float32, [None, n_input])"
   ]
  },
  {
   "cell_type": "code",
   "execution_count": 7,
   "metadata": {
    "collapsed": true
   },
   "outputs": [],
   "source": [
    "# Change the form of 4D input images to a tensor\n",
    "_X = tf.reshape(X, shape = [-1, 28, 28, 1])"
   ]
  },
  {
   "cell_type": "code",
   "execution_count": 8,
   "metadata": {
    "collapsed": true
   },
   "outputs": [],
   "source": [
    "y = tf.placeholder(tf.float32, [None, n_classes])"
   ]
  },
  {
   "cell_type": "code",
   "execution_count": 10,
   "metadata": {
    "collapsed": true
   },
   "outputs": [],
   "source": [
    "# First convolutional layer\n",
    "wc1 = tf.Variable(tf.random_normal([5, 5, 1, 32]))\n",
    "bc1 = tf.Variable(tf.random_normal([32]))"
   ]
  },
  {
   "cell_type": "code",
   "execution_count": 11,
   "metadata": {
    "collapsed": true
   },
   "outputs": [],
   "source": [
    "def conv2d(img, w, b):\n",
    "    return tf.nn.relu(tf.nn.bias_add(tf.nn.conv2d(img, w, strides = [1, 1, 1, 1], padding = 'SAME'), b))"
   ]
  },
  {
   "cell_type": "code",
   "execution_count": 14,
   "metadata": {
    "collapsed": true
   },
   "outputs": [],
   "source": [
    "conv1 = conv2d(_X, wc1, bc1)"
   ]
  },
  {
   "cell_type": "code",
   "execution_count": 16,
   "metadata": {
    "collapsed": true
   },
   "outputs": [],
   "source": [
    "def max_pool(img, k):\n",
    "    return tf.nn.max_pool(img, \n",
    "                          ksize = [1, k, k, 1],\n",
    "                          strides = [1, k, k, 1],\n",
    "                          padding = 'SAME')"
   ]
  },
  {
   "cell_type": "code",
   "execution_count": 17,
   "metadata": {
    "collapsed": false
   },
   "outputs": [],
   "source": [
    "conv1 = max_pool(conv1, k = 2)"
   ]
  },
  {
   "cell_type": "code",
   "execution_count": 18,
   "metadata": {
    "collapsed": true
   },
   "outputs": [],
   "source": [
    "keep_prob = tf.placeholder(tf.float32)\n",
    "conv1 = tf.nn.dropout(conv1, keep_prob)"
   ]
  },
  {
   "cell_type": "code",
   "execution_count": 19,
   "metadata": {
    "collapsed": true
   },
   "outputs": [],
   "source": [
    "# Second convolutional layer\n",
    "wc2 = tf.Variable(tf.random_normal([5, 5, 32, 64]))\n",
    "bc2 = tf.Variable(tf.random_normal([64]))"
   ]
  },
  {
   "cell_type": "code",
   "execution_count": 20,
   "metadata": {
    "collapsed": true
   },
   "outputs": [],
   "source": [
    "conv2 = conv2d(conv1, wc2, bc2)"
   ]
  },
  {
   "cell_type": "code",
   "execution_count": 21,
   "metadata": {
    "collapsed": true
   },
   "outputs": [],
   "source": [
    "conv2 = max_pool(conv2, k = 2)"
   ]
  },
  {
   "cell_type": "code",
   "execution_count": 22,
   "metadata": {
    "collapsed": true
   },
   "outputs": [],
   "source": [
    "conv2 = tf.nn.dropout(conv2, keep_prob)"
   ]
  },
  {
   "cell_type": "code",
   "execution_count": 23,
   "metadata": {
    "collapsed": true
   },
   "outputs": [],
   "source": [
    "# Densely connected layer\n",
    "wd1 = tf.Variable(tf.random_normal([7 * 7 * 64, 1024]))\n",
    "bd1 = tf.Variable(tf.random_normal([1024]))"
   ]
  },
  {
   "cell_type": "code",
   "execution_count": 24,
   "metadata": {
    "collapsed": true
   },
   "outputs": [],
   "source": [
    "# Reshape conv2 output to fit dense layer input\n",
    "dense1 = tf.reshape(conv2, [-1, wd1.get_shape().as_list()[0]])"
   ]
  },
  {
   "cell_type": "code",
   "execution_count": 25,
   "metadata": {
    "collapsed": true
   },
   "outputs": [],
   "source": [
    "# Relu activation\n",
    "dense1 = tf.nn.relu(tf.add(tf.matmul(dense1, wd1), bd1))"
   ]
  },
  {
   "cell_type": "code",
   "execution_count": 31,
   "metadata": {
    "collapsed": true
   },
   "outputs": [],
   "source": [
    "# Apply dropout\n",
    "dense1 = tf.nn.dropout(dense1, keep_prob)"
   ]
  },
  {
   "cell_type": "code",
   "execution_count": 35,
   "metadata": {
    "collapsed": true
   },
   "outputs": [],
   "source": [
    "# Readout layer\n",
    "wout = tf.Variable(tf.random_normal([1024, n_classes]))\n",
    "bout = tf.Variable(tf.random_normal([n_classes]))"
   ]
  },
  {
   "cell_type": "code",
   "execution_count": 36,
   "metadata": {
    "collapsed": true
   },
   "outputs": [],
   "source": [
    "pred = tf.add(tf.matmul(dense1, wout), bout)"
   ]
  },
  {
   "cell_type": "code",
   "execution_count": 41,
   "metadata": {
    "collapsed": false
   },
   "outputs": [],
   "source": [
    "cost = tf.reduce_mean(tf.nn.softmax_cross_entropy_with_logits_v2(logits = pred, labels = y))\n",
    "optimizer = tf.train.AdamOptimizer(learning_rate = learning_rate).minimize(cost)"
   ]
  },
  {
   "cell_type": "code",
   "execution_count": 42,
   "metadata": {
    "collapsed": true
   },
   "outputs": [],
   "source": [
    "correct_pred = tf.equal(tf.argmax(pred, 1), tf.argmax(y, 1))\n",
    "accuracy = tf.reduce_mean(tf.cast(correct_pred, tf.float32))"
   ]
  },
  {
   "cell_type": "code",
   "execution_count": 45,
   "metadata": {
    "collapsed": false
   },
   "outputs": [
    {
     "name": "stdout",
     "output_type": "stream",
     "text": [
      "Iter: 1281 Minibatch Loss = 29155.519531 Training Accuracy = 0.20312\n",
      "Iter: 2561 Minibatch Loss = 31672.998047 Training Accuracy = 0.18750\n",
      "Iter: 3841 Minibatch Loss = 12248.218750 Training Accuracy = 0.54688\n",
      "Iter: 5121 Minibatch Loss = 8256.911133 Training Accuracy = 0.59375\n",
      "Iter: 6401 Minibatch Loss = 8774.748047 Training Accuracy = 0.57812\n",
      "Iter: 7681 Minibatch Loss = 7340.238281 Training Accuracy = 0.64062\n",
      "Iter: 8961 Minibatch Loss = 5818.900879 Training Accuracy = 0.72656\n",
      "Iter: 10241 Minibatch Loss = 4673.752441 Training Accuracy = 0.76562\n",
      "Iter: 11521 Minibatch Loss = 6970.384277 Training Accuracy = 0.64844\n",
      "Iter: 12801 Minibatch Loss = 2357.000977 Training Accuracy = 0.82031\n",
      "Iter: 14081 Minibatch Loss = 1528.253540 Training Accuracy = 0.85156\n",
      "Iter: 15361 Minibatch Loss = 3748.270996 Training Accuracy = 0.82812\n",
      "Iter: 16641 Minibatch Loss = 2650.037598 Training Accuracy = 0.81250\n",
      "Iter: 17921 Minibatch Loss = 3199.350098 Training Accuracy = 0.76562\n",
      "Iter: 19201 Minibatch Loss = 1283.990723 Training Accuracy = 0.90625\n",
      "Iter: 20481 Minibatch Loss = 2872.885742 Training Accuracy = 0.85156\n",
      "Iter: 21761 Minibatch Loss = 1206.679565 Training Accuracy = 0.88281\n",
      "Iter: 23041 Minibatch Loss = 1647.199829 Training Accuracy = 0.82031\n",
      "Iter: 24321 Minibatch Loss = 2910.788574 Training Accuracy = 0.82812\n",
      "Iter: 25601 Minibatch Loss = 1547.149658 Training Accuracy = 0.85938\n",
      "Iter: 26881 Minibatch Loss = 2031.517334 Training Accuracy = 0.81250\n",
      "Iter: 28161 Minibatch Loss = 2023.495361 Training Accuracy = 0.85156\n",
      "Iter: 29441 Minibatch Loss = 2256.038574 Training Accuracy = 0.85156\n",
      "Iter: 30721 Minibatch Loss = 1961.171143 Training Accuracy = 0.85156\n",
      "Iter: 32001 Minibatch Loss = 1824.862549 Training Accuracy = 0.86719\n",
      "Iter: 33281 Minibatch Loss = 921.031738 Training Accuracy = 0.89844\n",
      "Iter: 34561 Minibatch Loss = 1275.481201 Training Accuracy = 0.85938\n",
      "Iter: 35841 Minibatch Loss = 1674.756104 Training Accuracy = 0.86719\n",
      "Iter: 37121 Minibatch Loss = 1348.654907 Training Accuracy = 0.88281\n",
      "Iter: 38401 Minibatch Loss = 1924.056396 Training Accuracy = 0.83594\n",
      "Iter: 39681 Minibatch Loss = 1444.906982 Training Accuracy = 0.92969\n",
      "Iter: 40961 Minibatch Loss = 1396.827271 Training Accuracy = 0.84375\n",
      "Iter: 42241 Minibatch Loss = 274.309814 Training Accuracy = 0.96094\n",
      "Iter: 43521 Minibatch Loss = 524.522583 Training Accuracy = 0.91406\n",
      "Iter: 44801 Minibatch Loss = 635.579651 Training Accuracy = 0.92969\n",
      "Iter: 46081 Minibatch Loss = 949.146851 Training Accuracy = 0.89844\n",
      "Iter: 47361 Minibatch Loss = 295.694458 Training Accuracy = 0.96875\n",
      "Iter: 48641 Minibatch Loss = 2249.247803 Training Accuracy = 0.88281\n",
      "Iter: 49921 Minibatch Loss = 1060.000000 Training Accuracy = 0.86719\n",
      "Iter: 51201 Minibatch Loss = 1212.343018 Training Accuracy = 0.88281\n",
      "Iter: 52481 Minibatch Loss = 1755.297119 Training Accuracy = 0.84375\n",
      "Iter: 53761 Minibatch Loss = 1410.567627 Training Accuracy = 0.86719\n",
      "Iter: 55041 Minibatch Loss = 1056.220215 Training Accuracy = 0.92188\n",
      "Iter: 56321 Minibatch Loss = 1116.991943 Training Accuracy = 0.82031\n",
      "Iter: 57601 Minibatch Loss = 530.488281 Training Accuracy = 0.92969\n",
      "Iter: 58881 Minibatch Loss = 1087.590576 Training Accuracy = 0.85938\n",
      "Iter: 60161 Minibatch Loss = 986.633362 Training Accuracy = 0.90625\n",
      "Iter: 61441 Minibatch Loss = 1385.291382 Training Accuracy = 0.89844\n",
      "Iter: 62721 Minibatch Loss = 598.642700 Training Accuracy = 0.94531\n",
      "Iter: 64001 Minibatch Loss = 773.186035 Training Accuracy = 0.91406\n",
      "Iter: 65281 Minibatch Loss = 553.949036 Training Accuracy = 0.89844\n",
      "Iter: 66561 Minibatch Loss = 1430.365967 Training Accuracy = 0.87500\n",
      "Iter: 67841 Minibatch Loss = 742.733765 Training Accuracy = 0.90625\n",
      "Iter: 69121 Minibatch Loss = 527.972412 Training Accuracy = 0.95312\n",
      "Iter: 70401 Minibatch Loss = 432.396851 Training Accuracy = 0.91406\n",
      "Iter: 71681 Minibatch Loss = 214.357086 Training Accuracy = 0.94531\n",
      "Iter: 72961 Minibatch Loss = 619.739502 Training Accuracy = 0.91406\n",
      "Iter: 74241 Minibatch Loss = 823.457336 Training Accuracy = 0.92188\n",
      "Iter: 75521 Minibatch Loss = 905.355591 Training Accuracy = 0.91406\n",
      "Iter: 76801 Minibatch Loss = 1224.466553 Training Accuracy = 0.87500\n",
      "Iter: 78081 Minibatch Loss = 253.630646 Training Accuracy = 0.95312\n",
      "Iter: 79361 Minibatch Loss = 853.014832 Training Accuracy = 0.92188\n",
      "Iter: 80641 Minibatch Loss = 1400.177124 Training Accuracy = 0.89844\n",
      "Iter: 81921 Minibatch Loss = 559.977600 Training Accuracy = 0.89062\n",
      "Iter: 83201 Minibatch Loss = 727.427002 Training Accuracy = 0.89062\n",
      "Iter: 84481 Minibatch Loss = 336.401581 Training Accuracy = 0.93750\n",
      "Iter: 85761 Minibatch Loss = 476.131683 Training Accuracy = 0.91406\n",
      "Iter: 87041 Minibatch Loss = 321.125610 Training Accuracy = 0.92969\n",
      "Iter: 88321 Minibatch Loss = 758.678345 Training Accuracy = 0.93750\n",
      "Iter: 89601 Minibatch Loss = 144.478546 Training Accuracy = 0.96094\n",
      "Iter: 90881 Minibatch Loss = 766.503235 Training Accuracy = 0.89844\n",
      "Iter: 92161 Minibatch Loss = 1469.728149 Training Accuracy = 0.89062\n",
      "Iter: 93441 Minibatch Loss = 665.647644 Training Accuracy = 0.89062\n",
      "Iter: 94721 Minibatch Loss = 1195.480957 Training Accuracy = 0.87500\n",
      "Iter: 96001 Minibatch Loss = 533.348511 Training Accuracy = 0.89062\n",
      "Iter: 97281 Minibatch Loss = 695.745117 Training Accuracy = 0.89062\n",
      "Iter: 98561 Minibatch Loss = 346.501221 Training Accuracy = 0.93750\n",
      "Iter: 99841 Minibatch Loss = 646.418274 Training Accuracy = 0.91406\n",
      "Optimization finished\n",
      "Testing Accuracy: 0.94140625\n"
     ]
    }
   ],
   "source": [
    "init = tf.global_variables_initializer()\n",
    "with tf.Session() as sess:\n",
    "    sess.run(init)\n",
    "    step = 1\n",
    "    while step * batch_size < training_iters:\n",
    "        batch_xs, batch_ys = mnist.train.next_batch(batch_size)\n",
    "        sess.run(optimizer, feed_dict = {X: batch_xs, \n",
    "                                         y: batch_ys,\n",
    "                                         keep_prob: dropout})\n",
    "        if step % display_step == 0:\n",
    "            acc = sess.run(accuracy, feed_dict = {X: batch_xs,\n",
    "                                                  y: batch_ys,\n",
    "                                                  keep_prob: 1})\n",
    "            loss = sess.run(cost, feed_dict = {X: batch_xs, \n",
    "                                               y: batch_ys,\n",
    "                                               keep_prob: 1})\n",
    "            print('Iter: {} Minibatch Loss = {:.6f} Training Accuracy = {:.5f}'.format(step * batch_size + 1, loss, acc))\n",
    "        step += 1\n",
    "    print('Optimization finished')\n",
    "    print('Testing Accuracy: {}'.format(sess.run(accuracy, feed_dict = {X: mnist.test.images[:256],\n",
    "                                                                        y: mnist.test.labels[:256],\n",
    "                                                                        keep_prob: 1})))"
   ]
  }
 ],
 "metadata": {
  "kernelspec": {
   "display_name": "Python 3",
   "language": "python",
   "name": "python3"
  },
  "language_info": {
   "codemirror_mode": {
    "name": "ipython",
    "version": 3
   },
   "file_extension": ".py",
   "mimetype": "text/x-python",
   "name": "python",
   "nbconvert_exporter": "python",
   "pygments_lexer": "ipython3",
   "version": "3.6.4"
  }
 },
 "nbformat": 4,
 "nbformat_minor": 2
}
