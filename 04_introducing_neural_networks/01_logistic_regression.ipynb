{
 "cells": [
  {
   "cell_type": "code",
   "execution_count": 2,
   "metadata": {
    "collapsed": false
   },
   "outputs": [
    {
     "name": "stdout",
     "output_type": "stream",
     "text": [
      "Extracting MNIST_data/train-images-idx3-ubyte.gz\n",
      "Extracting MNIST_data/train-labels-idx1-ubyte.gz\n",
      "Extracting MNIST_data/t10k-images-idx3-ubyte.gz\n",
      "Extracting MNIST_data/t10k-labels-idx1-ubyte.gz\n"
     ]
    },
    {
     "data": {
      "text/plain": [
       "'ok'"
      ]
     },
     "execution_count": 2,
     "metadata": {},
     "output_type": "execute_result"
    }
   ],
   "source": [
    "%matplotlib inline\n",
    "\n",
    "import numpy as np\n",
    "import matplotlib.pyplot as plt\n",
    "import tensorflow as tf\n",
    "from tensorflow.examples.tutorials.mnist import input_data\n",
    "mnist = input_data.read_data_sets(\"MNIST_data/\", one_hot = True)\n",
    "'ok'"
   ]
  },
  {
   "cell_type": "code",
   "execution_count": 3,
   "metadata": {
    "collapsed": true
   },
   "outputs": [],
   "source": [
    "training_epochs = 25\n",
    "learning_rate = 0.01\n",
    "batch_size = 100\n",
    "display_step = 1"
   ]
  },
  {
   "cell_type": "code",
   "execution_count": 5,
   "metadata": {
    "collapsed": true
   },
   "outputs": [],
   "source": [
    "# Input tensor, represents the mnist data image size of 28 x 28 = 784\n",
    "x = tf.placeholder('float', [None, 784])\n",
    "\n",
    "# Output tensor with 10 probabilities\n",
    "y = tf.placeholder('float', [None, 10])"
   ]
  },
  {
   "cell_type": "code",
   "execution_count": 8,
   "metadata": {
    "collapsed": true
   },
   "outputs": [],
   "source": [
    "# Weight input tensor\n",
    "W = tf.Variable(tf.zeros([784, 10]))"
   ]
  },
  {
   "cell_type": "code",
   "execution_count": 10,
   "metadata": {
    "collapsed": true
   },
   "outputs": [],
   "source": [
    "# Tensor bias\n",
    "b = tf.Variable(tf.zeros([10]))"
   ]
  },
  {
   "cell_type": "code",
   "execution_count": 11,
   "metadata": {
    "collapsed": false
   },
   "outputs": [],
   "source": [
    "# Evidence that a certain image belongs to a particular class\n",
    "evidence = tf.matmul(x, W) + b"
   ]
  },
  {
   "cell_type": "code",
   "execution_count": 13,
   "metadata": {
    "collapsed": true
   },
   "outputs": [],
   "source": [
    "# Output vector of probabilities\n",
    "activation = tf.nn.softmax(tf.matmul(x, W) + b)"
   ]
  },
  {
   "cell_type": "code",
   "execution_count": 15,
   "metadata": {
    "collapsed": false
   },
   "outputs": [],
   "source": [
    "cross_entropy = y * tf.log(activation)"
   ]
  },
  {
   "cell_type": "code",
   "execution_count": 16,
   "metadata": {
    "collapsed": true
   },
   "outputs": [],
   "source": [
    "# Cost function to minimize cross entropy\n",
    "cost = tf.reduce_mean(-tf.reduce_mean(cross_entropy, reduction_indices = 1))"
   ]
  },
  {
   "cell_type": "code",
   "execution_count": 17,
   "metadata": {
    "collapsed": true
   },
   "outputs": [],
   "source": [
    "optimizer = tf.train.GradientDescentOptimizer(learning_rate).minimize(cost)"
   ]
  },
  {
   "cell_type": "code",
   "execution_count": 23,
   "metadata": {
    "collapsed": false
   },
   "outputs": [
    {
     "name": "stdout",
     "output_type": "stream",
     "text": [
      "Epoch: 1 cost=0.204537639\n",
      "Epoch: 2 cost=0.165456057\n",
      "Epoch: 3 cost=0.139449794\n",
      "Epoch: 4 cost=0.121718485\n",
      "Epoch: 5 cost=0.109138935\n",
      "Epoch: 6 cost=0.099841052\n",
      "Epoch: 7 cost=0.092710072\n",
      "Epoch: 8 cost=0.087071200\n",
      "Epoch: 9 cost=0.082499972\n",
      "Epoch: 10 cost=0.078709360\n",
      "Epoch: 11 cost=0.075515459\n",
      "Epoch: 12 cost=0.072780696\n",
      "Epoch: 13 cost=0.070410789\n",
      "Epoch: 14 cost=0.068333356\n",
      "Epoch: 15 cost=0.066497231\n",
      "Epoch: 16 cost=0.064859091\n",
      "Epoch: 17 cost=0.063387628\n",
      "Epoch: 18 cost=0.062056654\n",
      "Epoch: 19 cost=0.060847154\n",
      "Epoch: 20 cost=0.059741047\n",
      "Epoch: 21 cost=0.058726750\n",
      "Epoch: 22 cost=0.057790009\n",
      "Epoch: 23 cost=0.056923780\n",
      "Epoch: 24 cost=0.056119242\n",
      "Epoch: 25 cost=0.055369310\n",
      "Model accuracy: 0.8784999847412109\n"
     ]
    }
   ],
   "source": [
    "avg_set = []\n",
    "epoch_set = []\n",
    "\n",
    "init = tf.global_variables_initializer()\n",
    "with tf.Session() as sess:\n",
    "    sess.run(init)\n",
    "    \n",
    "    for epoch in range(training_epochs):\n",
    "        avg_cost = 0\n",
    "        total_batch = int(mnist.train.num_examples/batch_size)\n",
    "        for i in range(total_batch):\n",
    "            batch_xs, batch_ys = mnist.train.next_batch(batch_size)\n",
    "            sess.run(optimizer, feed_dict = {x: batch_xs, y: batch_ys})\n",
    "            avg_cost += sess.run(cost, feed_dict = {x: batch_xs, y: batch_ys}) / total_batch\n",
    "        if epoch % display_step == 0:\n",
    "            print('Epoch: {} cost={:.9f}'.format(epoch + 1, avg_cost))\n",
    "            avg_set.append(avg_cost)\n",
    "            epoch_set.append(epoch + 1)\n",
    "    \n",
    "    correct_prediction = tf.equal(tf.argmax(activation, 1), tf.argmax(y, 1))\n",
    "    accuracy = tf.reduce_mean(tf.cast(correct_prediction, 'float'))\n",
    "    print('Model accuracy: {}'.format(accuracy.eval({x: mnist.test.images, y: mnist.test.labels})))"
   ]
  },
  {
   "cell_type": "code",
   "execution_count": 25,
   "metadata": {
    "collapsed": false
   },
   "outputs": [
    {
     "data": {
      "text/plain": [
       "<matplotlib.legend.Legend at 0x130975a58>"
      ]
     },
     "execution_count": 25,
     "metadata": {},
     "output_type": "execute_result"
    },
    {
     "data": {
      "image/png": "[encoded data removed]",
      "text/plain": [
       "<matplotlib.figure.Figure at 0x13077ef98>"
      ]
     },
     "metadata": {},
     "output_type": "display_data"
    }
   ],
   "source": [
    "plt.plot(epoch_set, avg_set, 'o', label = 'Logistic Regression Training Phase')\n",
    "plt.ylabel('cost')\n",
    "plt.xlabel('epoch')\n",
    "plt.legend()"
   ]
  }
 ],
 "metadata": {
  "kernelspec": {
   "display_name": "Python 3",
   "language": "python",
   "name": "python3"
  },
  "language_info": {
   "codemirror_mode": {
    "name": "ipython",
    "version": 3
   },
   "file_extension": ".py",
   "mimetype": "text/x-python",
   "name": "python",
   "nbconvert_exporter": "python",
   "pygments_lexer": "ipython3",
   "version": "3.6.4"
  }
 },
 "nbformat": 4,
 "nbformat_minor": 2
}
