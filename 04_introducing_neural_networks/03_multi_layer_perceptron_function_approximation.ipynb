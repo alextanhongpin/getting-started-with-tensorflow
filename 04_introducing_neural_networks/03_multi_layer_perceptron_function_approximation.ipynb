{
 "cells": [
  {
   "cell_type": "code",
   "execution_count": 23,
   "metadata": {
    "collapsed": false
   },
   "outputs": [],
   "source": [
    "%matplotlib inline\n",
    "import tensorflow as tf\n",
    "import numpy as np\n",
    "import math, random\n",
    "import matplotlib.pyplot as plt"
   ]
  },
  {
   "cell_type": "code",
   "execution_count": 24,
   "metadata": {
    "collapsed": false
   },
   "outputs": [],
   "source": [
    "num_points = 1000\n",
    "np.random.seed(num_points)\n",
    "\n",
    "# The function to be learned will follow the trend of the cosine function\n",
    "function_to_learn = lambda x: np.cos(x) + 0.1 * np.random.randn(*x.shape)"
   ]
  },
  {
   "cell_type": "code",
   "execution_count": 25,
   "metadata": {
    "collapsed": true
   },
   "outputs": [],
   "source": [
    "layer_1_neurons = 10"
   ]
  },
  {
   "cell_type": "code",
   "execution_count": 26,
   "metadata": {
    "collapsed": true
   },
   "outputs": [],
   "source": [
    "batch_size = 100\n",
    "epochs = 1500"
   ]
  },
  {
   "cell_type": "code",
   "execution_count": 27,
   "metadata": {
    "collapsed": false
   },
   "outputs": [],
   "source": [
    "all_x = np.float32(np.random.uniform(-2 * math.pi, 2 * math.pi, (1, num_points))).T\n",
    "np.random.shuffle(all_x)\n",
    "train_size = int(900)"
   ]
  },
  {
   "cell_type": "code",
   "execution_count": 28,
   "metadata": {
    "collapsed": true
   },
   "outputs": [],
   "source": [
    "x_training = all_x[:train_size]\n",
    "y_training = function_to_learn(x_training)"
   ]
  },
  {
   "cell_type": "code",
   "execution_count": 29,
   "metadata": {
    "collapsed": true
   },
   "outputs": [],
   "source": [
    "x_validation = all_x[train_size:]\n",
    "y_validation = function_to_learn(x_validation)"
   ]
  },
  {
   "cell_type": "code",
   "execution_count": 31,
   "metadata": {
    "collapsed": false
   },
   "outputs": [
    {
     "data": {
      "text/plain": [
       "<matplotlib.legend.Legend at 0x11ca19d30>"
      ]
     },
     "execution_count": 31,
     "metadata": {},
     "output_type": "execute_result"
    },
    {
     "data": {
      "image/png": "[encoded data removed]",
      "text/plain": [
       "<matplotlib.figure.Figure at 0x11c93e7b8>"
      ]
     },
     "metadata": {},
     "output_type": "display_data"
    }
   ],
   "source": [
    "plt.figure(1)\n",
    "plt.scatter(x_training, y_training, c = 'blue', label = 'train')\n",
    "plt.scatter(x_validation, y_validation, c = 'red', label = 'validation')\n",
    "plt.legend()"
   ]
  },
  {
   "cell_type": "code",
   "execution_count": 32,
   "metadata": {
    "collapsed": true
   },
   "outputs": [],
   "source": [
    "# Building the model\n",
    "X = tf.placeholder(tf.float32, [None, 1], name = 'X')\n",
    "y = tf.placeholder(tf.float32, [None, 1], name = 'y')"
   ]
  },
  {
   "cell_type": "code",
   "execution_count": 34,
   "metadata": {
    "collapsed": true
   },
   "outputs": [],
   "source": [
    "# Hidden layer of [1 x 10] dimensions\n",
    "w_h = tf.Variable(tf.random_uniform([1, layer_1_neurons], \n",
    "                                    minval = -1, \n",
    "                                    maxval = 1, \n",
    "                                    dtype = tf.float32))\n",
    "# Bias layer\n",
    "b_h = tf.Variable(tf.zeros([1, layer_1_neurons], \n",
    "                           dtype = tf.float32))"
   ]
  },
  {
   "cell_type": "code",
   "execution_count": 35,
   "metadata": {
    "collapsed": true
   },
   "outputs": [],
   "source": [
    "h = tf.nn.sigmoid(tf.matmul(X, w_h) + b_h)"
   ]
  },
  {
   "cell_type": "code",
   "execution_count": 37,
   "metadata": {
    "collapsed": true
   },
   "outputs": [],
   "source": [
    "w_o = tf.Variable(tf.random_uniform([layer_1_neurons, 1],\n",
    "                                    minval = -1,\n",
    "                                    maxval = 1,\n",
    "                                    dtype = tf.float32))\n",
    "\n",
    "b_o = tf.Variable(tf.zeros([1, 1], dtype = tf.float32))"
   ]
  },
  {
   "cell_type": "code",
   "execution_count": 38,
   "metadata": {
    "collapsed": true
   },
   "outputs": [],
   "source": [
    "model = tf.matmul(h, w_o) + b_o"
   ]
  },
  {
   "cell_type": "code",
   "execution_count": 40,
   "metadata": {
    "collapsed": false
   },
   "outputs": [],
   "source": [
    "train_op = tf.train.AdamOptimizer().minimize(tf.nn.l2_loss(model - y))"
   ]
  },
  {
   "cell_type": "code",
   "execution_count": 41,
   "metadata": {
    "collapsed": false
   },
   "outputs": [
    {
     "data": {
      "text/plain": [
       "<tf.Tensor 'L2Loss_1:0' shape=() dtype=float32>"
      ]
     },
     "execution_count": 41,
     "metadata": {},
     "output_type": "execute_result"
    }
   ],
   "source": [
    "tf.nn.l2_loss(model - y)"
   ]
  },
  {
   "cell_type": "code",
   "execution_count": 48,
   "metadata": {
    "collapsed": false
   },
   "outputs": [],
   "source": [
    "output = np.sum((model - y) ** 2) / 2"
   ]
  },
  {
   "cell_type": "code",
   "execution_count": 49,
   "metadata": {
    "collapsed": false
   },
   "outputs": [
    {
     "name": "stdout",
     "output_type": "stream",
     "text": [
      "Epoch: 0 Cost: 29.391202926635742\n",
      "Epoch: 100 Cost: 23.07007598876953\n",
      "Epoch: 200 Cost: 18.76615333557129\n",
      "Epoch: 300 Cost: 14.247583389282227\n",
      "Epoch: 400 Cost: 10.087933540344238\n",
      "Epoch: 500 Cost: 6.459544658660889\n",
      "Epoch: 600 Cost: 3.7661538124084473\n",
      "Epoch: 700 Cost: 2.109309196472168\n",
      "Epoch: 800 Cost: 1.2916945219039917\n",
      "Epoch: 900 Cost: 0.9553030133247375\n",
      "Epoch: 1000 Cost: 0.8056235313415527\n",
      "Epoch: 1100 Cost: 0.7208495140075684\n",
      "Epoch: 1200 Cost: 0.6729631423950195\n",
      "Epoch: 1300 Cost: 0.6438819169998169\n",
      "Epoch: 1400 Cost: 0.6241742372512817\n"
     ]
    }
   ],
   "source": [
    "sess = tf.Session()\n",
    "sess.run(tf.global_variables_initializer())\n",
    "\n",
    "errors = []\n",
    "for i in range(epochs):\n",
    "    for start, end in zip(range(0, len(x_training), batch_size), range(batch_size, len(x_training), batch_size)):\n",
    "        sess.run(train_op, feed_dict = {X: x_training[start:end], \n",
    "                                        y: y_training[start:end]})\n",
    "    cost = sess.run(tf.nn.l2_loss(model - y_validation), feed_dict = {X: x_validation})\n",
    "    errors.append(cost)\n",
    "    if i % 100 == 0:\n",
    "        print('Epoch: {} Cost: {}'.format(i, cost))"
   ]
  },
  {
   "cell_type": "code",
   "execution_count": 50,
   "metadata": {
    "collapsed": false
   },
   "outputs": [
    {
     "data": {
      "text/plain": [
       "<matplotlib.legend.Legend at 0x11ccd8a20>"
      ]
     },
     "execution_count": 50,
     "metadata": {},
     "output_type": "execute_result"
    },
    {
     "data": {
      "image/png": "[encoded data removed]",
      "text/plain": [
       "<matplotlib.figure.Figure at 0x11ccd8b38>"
      ]
     },
     "metadata": {},
     "output_type": "display_data"
    }
   ],
   "source": [
    "plt.plot(errors, label = 'MLP Function Approximation')\n",
    "plt.xlabel('epochs')\n",
    "plt.ylabel('cost')\n",
    "plt.legend()"
   ]
  }
 ],
 "metadata": {
  "kernelspec": {
   "display_name": "Python 3",
   "language": "python",
   "name": "python3"
  },
  "language_info": {
   "codemirror_mode": {
    "name": "ipython",
    "version": 3
   },
   "file_extension": ".py",
   "mimetype": "text/x-python",
   "name": "python",
   "nbconvert_exporter": "python",
   "pygments_lexer": "ipython3",
   "version": "3.6.4"
  }
 },
 "nbformat": 4,
 "nbformat_minor": 2
}
