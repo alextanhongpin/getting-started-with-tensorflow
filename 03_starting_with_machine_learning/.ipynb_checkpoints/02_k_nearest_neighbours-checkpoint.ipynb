{
 "cells": [
  {
   "cell_type": "code",
   "execution_count": 4,
   "metadata": {
    "collapsed": false
   },
   "outputs": [
    {
     "name": "stdout",
     "output_type": "stream",
     "text": [
      "Extracting MNIST_data/train-images-idx3-ubyte.gz\n",
      "Extracting MNIST_data/train-labels-idx1-ubyte.gz\n",
      "Extracting MNIST_data/t10k-images-idx3-ubyte.gz\n",
      "Extracting MNIST_data/t10k-labels-idx1-ubyte.gz\n"
     ]
    },
    {
     "data": {
      "text/plain": [
       "'done'"
      ]
     },
     "execution_count": 4,
     "metadata": {},
     "output_type": "execute_result"
    }
   ],
   "source": [
    "%matplotlib inline\n",
    "\n",
    "import numpy as np\n",
    "import matplotlib.pyplot as plt\n",
    "import tensorflow as tf\n",
    "from tensorflow.examples.tutorials.mnist import input_data\n",
    "mnist = input_data.read_data_sets(\"MNIST_data/\", one_hot = False)\n",
    "'ok'"
   ]
  },
  {
   "cell_type": "code",
   "execution_count": 18,
   "metadata": {
    "collapsed": true
   },
   "outputs": [],
   "source": [
    "pixels, real_values = mnist.train.next_batch(10)"
   ]
  },
  {
   "cell_type": "code",
   "execution_count": 19,
   "metadata": {
    "collapsed": false
   },
   "outputs": [
    {
     "data": {
      "text/plain": [
       "array([0, 2, 7, 1, 7, 0, 0, 5, 2, 3], dtype=uint8)"
      ]
     },
     "execution_count": 19,
     "metadata": {},
     "output_type": "execute_result"
    }
   ],
   "source": [
    "real_values"
   ]
  },
  {
   "cell_type": "code",
   "execution_count": 20,
   "metadata": {
    "collapsed": true
   },
   "outputs": [],
   "source": [
    "example_to_visualize = 5"
   ]
  },
  {
   "cell_type": "code",
   "execution_count": 22,
   "metadata": {
    "collapsed": false
   },
   "outputs": [
    {
     "data": {
      "text/plain": [
       "<matplotlib.image.AxesImage at 0x1373c46a0>"
      ]
     },
     "execution_count": 22,
     "metadata": {},
     "output_type": "execute_result"
    },
    {
     "data": {
      "image/png": "[encoded data removed]",
      "text/plain": [
       "<matplotlib.figure.Figure at 0x137244da0>"
      ]
     },
     "metadata": {},
     "output_type": "display_data"
    }
   ],
   "source": [
    "image = pixels[example_to_visualize,:]\n",
    "image = np.reshape(image, [28, 28])\n",
    "plt.imshow(image)"
   ]
  },
  {
   "cell_type": "code",
   "execution_count": 24,
   "metadata": {
    "collapsed": false
   },
   "outputs": [
    {
     "name": "stdout",
     "output_type": "stream",
     "text": [
      "Extracting MNIST_data/train-images-idx3-ubyte.gz\n",
      "Extracting MNIST_data/train-labels-idx1-ubyte.gz\n",
      "Extracting MNIST_data/t10k-images-idx3-ubyte.gz\n",
      "Extracting MNIST_data/t10k-labels-idx1-ubyte.gz\n"
     ]
    }
   ],
   "source": [
    "# K-nearest neighbours\n",
    "mnist = input_data.read_data_sets(\"MNIST_data/\", one_hot = True)"
   ]
  },
  {
   "cell_type": "code",
   "execution_count": 26,
   "metadata": {
    "collapsed": true
   },
   "outputs": [],
   "source": [
    "train_pixels, train_list_values = mnist.train.next_batch(100)\n",
    "test_pixels, test_list_values = mnist.train.next_batch(10)"
   ]
  },
  {
   "cell_type": "code",
   "execution_count": 28,
   "metadata": {
    "collapsed": true
   },
   "outputs": [],
   "source": [
    "train_pixel_tensor = tf.placeholder('float', [None, 784])\n",
    "test_pixel_tensor = tf.placeholder('float', [784])"
   ]
  },
  {
   "cell_type": "code",
   "execution_count": 40,
   "metadata": {
    "collapsed": false
   },
   "outputs": [],
   "source": [
    "distance = tf.reduce_sum(tf.abs(tf.add(train_pixel_tensor, tf.negative(test_pixel_tensor))), reduction_indices = 1)"
   ]
  },
  {
   "cell_type": "code",
   "execution_count": 42,
   "metadata": {
    "collapsed": false
   },
   "outputs": [],
   "source": [
    "pred = tf.argmin(distance, 0)"
   ]
  },
  {
   "cell_type": "code",
   "execution_count": 43,
   "metadata": {
    "collapsed": false
   },
   "outputs": [
    {
     "name": "stdout",
     "output_type": "stream",
     "text": [
      "6\n",
      "[2 2 2]\n",
      "[3 3]\n",
      "[[3]\n",
      " [3]]\n",
      "6\n"
     ]
    }
   ],
   "source": [
    "# Examples on tf.reduce_sum\n",
    "x = [[1, 1, 1], [1, 1, 1]]\n",
    "with tf.Session() as sess:\n",
    "    print(sess.run(tf.reduce_sum(x))) # Reduce by flattening both rows and columns\n",
    "    print(sess.run(tf.reduce_sum(x, 0))) # Reduce by flattening the rows\n",
    "    print(sess.run(tf.reduce_sum(x, 1))) # Reduce by flattening the columns\n",
    "    print(sess.run(tf.reduce_sum(x, 1, keep_dims = True)))\n",
    "    print(sess.run(tf.reduce_sum(x, [0, 1]))) # Reduce by row 0 and column 1"
   ]
  },
  {
   "cell_type": "code",
   "execution_count": 47,
   "metadata": {
    "collapsed": false
   },
   "outputs": [
    {
     "name": "stdout",
     "output_type": "stream",
     "text": [
      "Test: 0\n",
      "Predicted: 1\n",
      "True class: 1 \n",
      "\n",
      "Test: 1\n",
      "Predicted: 1\n",
      "True class: 2 \n",
      "\n",
      "Test: 2\n",
      "Predicted: 7\n",
      "True class: 7 \n",
      "\n",
      "Test: 3\n",
      "Predicted: 7\n",
      "True class: 6 \n",
      "\n",
      "Test: 4\n",
      "Predicted: 7\n",
      "True class: 9 \n",
      "\n",
      "Test: 5\n",
      "Predicted: 0\n",
      "True class: 6 \n",
      "\n",
      "Test: 6\n",
      "Predicted: 6\n",
      "True class: 6 \n",
      "\n",
      "Test: 7\n",
      "Predicted: 2\n",
      "True class: 2 \n",
      "\n",
      "Test: 8\n",
      "Predicted: 3\n",
      "True class: 3 \n",
      "\n",
      "Test: 9\n",
      "Predicted: 2\n",
      "True class: 2 \n",
      "\n",
      "Result: 0.6\n"
     ]
    }
   ],
   "source": [
    "accuracy = 0\n",
    "init = tf.global_variables_initializer()\n",
    "with tf.Session() as sess:\n",
    "    sess.run(init)\n",
    "    for i in range(len(test_list_values)):\n",
    "        nn_index = sess.run(pred, feed_dict = {train_pixel_tensor: train_pixels,\n",
    "                                               test_pixel_tensor: test_pixels[i, :]})\n",
    "        print('Test:', i)\n",
    "        print('Predicted:', np.argmax(train_list_values[nn_index]))\n",
    "        print('True class:', np.argmax(test_list_values[i]), '\\n')\n",
    "        if np.argmax(train_list_values[nn_index]) == np.argmax(test_list_values[i]):\n",
    "            accuracy += 1.0 / len(test_pixels)\n",
    "print('Result:', accuracy)"
   ]
  }
 ],
 "metadata": {
  "kernelspec": {
   "display_name": "Python 3",
   "language": "python",
   "name": "python3"
  },
  "language_info": {
   "codemirror_mode": {
    "name": "ipython",
    "version": 3
   },
   "file_extension": ".py",
   "mimetype": "text/x-python",
   "name": "python",
   "nbconvert_exporter": "python",
   "pygments_lexer": "ipython3",
   "version": "3.6.4"
  }
 },
 "nbformat": 4,
 "nbformat_minor": 2
}
